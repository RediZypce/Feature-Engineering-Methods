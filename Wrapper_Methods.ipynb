{
 "cells": [
  {
   "cell_type": "markdown",
   "id": "68ca92ea",
   "metadata": {},
   "source": [
    "# Summary:\n",
    "In this Jupyter Notebook project, we will delve into the world of feature engineering, with a specific focus on wrapper methods for feature selection. Wrapper methods are a family of algorithms that select features by systematically evaluating a machine learning model's performance on different subsets of features. Unlike filter methods, wrapper methods assess features based on their performance with a specific model, providing a more tailored approach to feature selection. We will explore and implement five distinct wrapper methods to optimize feature selection for improved model performance."
   ]
  },
  {
   "cell_type": "markdown",
   "id": "0eefd2b5",
   "metadata": {},
   "source": [
    "This lesson will explain five different wrapper methods:\n",
    "\n",
    "* Sequential forward selection\n",
    "* Sequential backward selection\n",
    "* Sequential forward floating selection\n",
    "* Sequential backward floating selection\n",
    "* Recursive feature elimination"
   ]
  },
  {
   "cell_type": "markdown",
   "id": "076c222e",
   "metadata": {},
   "source": [
    "### Dataset:\n",
    "We will work with a health dataset loaded from a CSV file named __dataR2.csv__.The data was taken from the  __UCI Machine Learning Repository__ [https://archive.ics.uci.edu/dataset/451/breast+cancer+coimbra]. This dataset includes features such as Age, BMI, Glucose, Insulin, HOMA, Leptin, Adiponectin, Resistin, MCP.1, and Classification."
   ]
  },
  {
   "cell_type": "code",
   "execution_count": 2,
   "id": "c6f2b2fb",
   "metadata": {},
   "outputs": [],
   "source": [
    "import pandas as pd\n",
    "# Load the data\n",
    "health = pd.read_csv(\"data/dataR2.csv\")"
   ]
  },
  {
   "cell_type": "code",
   "execution_count": 4,
   "id": "d2f667c8",
   "metadata": {
    "scrolled": true
   },
   "outputs": [
    {
     "data": {
      "text/html": [
       "<div>\n",
       "<style scoped>\n",
       "    .dataframe tbody tr th:only-of-type {\n",
       "        vertical-align: middle;\n",
       "    }\n",
       "\n",
       "    .dataframe tbody tr th {\n",
       "        vertical-align: top;\n",
       "    }\n",
       "\n",
       "    .dataframe thead th {\n",
       "        text-align: right;\n",
       "    }\n",
       "</style>\n",
       "<table border=\"1\" class=\"dataframe\">\n",
       "  <thead>\n",
       "    <tr style=\"text-align: right;\">\n",
       "      <th></th>\n",
       "      <th>Age</th>\n",
       "      <th>BMI</th>\n",
       "      <th>Glucose</th>\n",
       "      <th>Insulin</th>\n",
       "      <th>HOMA</th>\n",
       "      <th>Leptin</th>\n",
       "      <th>Adiponectin</th>\n",
       "      <th>Resistin</th>\n",
       "      <th>MCP.1</th>\n",
       "      <th>Classification</th>\n",
       "    </tr>\n",
       "  </thead>\n",
       "  <tbody>\n",
       "    <tr>\n",
       "      <th>0</th>\n",
       "      <td>48</td>\n",
       "      <td>23.500000</td>\n",
       "      <td>70</td>\n",
       "      <td>2.707</td>\n",
       "      <td>0.467409</td>\n",
       "      <td>8.8071</td>\n",
       "      <td>9.702400</td>\n",
       "      <td>7.99585</td>\n",
       "      <td>417.114</td>\n",
       "      <td>1</td>\n",
       "    </tr>\n",
       "    <tr>\n",
       "      <th>1</th>\n",
       "      <td>83</td>\n",
       "      <td>20.690495</td>\n",
       "      <td>92</td>\n",
       "      <td>3.115</td>\n",
       "      <td>0.706897</td>\n",
       "      <td>8.8438</td>\n",
       "      <td>5.429285</td>\n",
       "      <td>4.06405</td>\n",
       "      <td>468.786</td>\n",
       "      <td>1</td>\n",
       "    </tr>\n",
       "    <tr>\n",
       "      <th>2</th>\n",
       "      <td>82</td>\n",
       "      <td>23.124670</td>\n",
       "      <td>91</td>\n",
       "      <td>4.498</td>\n",
       "      <td>1.009651</td>\n",
       "      <td>17.9393</td>\n",
       "      <td>22.432040</td>\n",
       "      <td>9.27715</td>\n",
       "      <td>554.697</td>\n",
       "      <td>1</td>\n",
       "    </tr>\n",
       "    <tr>\n",
       "      <th>3</th>\n",
       "      <td>68</td>\n",
       "      <td>21.367521</td>\n",
       "      <td>77</td>\n",
       "      <td>3.226</td>\n",
       "      <td>0.612725</td>\n",
       "      <td>9.8827</td>\n",
       "      <td>7.169560</td>\n",
       "      <td>12.76600</td>\n",
       "      <td>928.220</td>\n",
       "      <td>1</td>\n",
       "    </tr>\n",
       "    <tr>\n",
       "      <th>4</th>\n",
       "      <td>86</td>\n",
       "      <td>21.111111</td>\n",
       "      <td>92</td>\n",
       "      <td>3.549</td>\n",
       "      <td>0.805386</td>\n",
       "      <td>6.6994</td>\n",
       "      <td>4.819240</td>\n",
       "      <td>10.57635</td>\n",
       "      <td>773.920</td>\n",
       "      <td>1</td>\n",
       "    </tr>\n",
       "  </tbody>\n",
       "</table>\n",
       "</div>"
      ],
      "text/plain": [
       "   Age        BMI  Glucose  Insulin      HOMA   Leptin  Adiponectin  Resistin  \\\n",
       "0   48  23.500000       70    2.707  0.467409   8.8071     9.702400   7.99585   \n",
       "1   83  20.690495       92    3.115  0.706897   8.8438     5.429285   4.06405   \n",
       "2   82  23.124670       91    4.498  1.009651  17.9393    22.432040   9.27715   \n",
       "3   68  21.367521       77    3.226  0.612725   9.8827     7.169560  12.76600   \n",
       "4   86  21.111111       92    3.549  0.805386   6.6994     4.819240  10.57635   \n",
       "\n",
       "     MCP.1  Classification  \n",
       "0  417.114               1  \n",
       "1  468.786               1  \n",
       "2  554.697               1  \n",
       "3  928.220               1  \n",
       "4  773.920               1  "
      ]
     },
     "execution_count": 4,
     "metadata": {},
     "output_type": "execute_result"
    }
   ],
   "source": [
    "health.head()"
   ]
  },
  {
   "cell_type": "markdown",
   "id": "71a7f2f6",
   "metadata": {},
   "source": [
    "# Setting Up a Logistic Regression Model"
   ]
  },
  {
   "cell_type": "markdown",
   "id": "8f4711a0",
   "metadata": {},
   "source": [
    "As a practical component of the project, we will set up a logistic regression model to evaluate the performance of each wrapper method in optimizing feature selection. Logistic regression is a well-suited model for binary classification problems."
   ]
  },
  {
   "cell_type": "code",
   "execution_count": 6,
   "id": "a8dbe1a2",
   "metadata": {},
   "outputs": [],
   "source": [
    "# Split independent and dependent variables\n",
    "X = health.iloc[:,:-1]\n",
    "y = health.iloc[:,-1]"
   ]
  },
  {
   "cell_type": "code",
   "execution_count": 7,
   "id": "2e702319",
   "metadata": {},
   "outputs": [
    {
     "data": {
      "text/html": [
       "<div>\n",
       "<style scoped>\n",
       "    .dataframe tbody tr th:only-of-type {\n",
       "        vertical-align: middle;\n",
       "    }\n",
       "\n",
       "    .dataframe tbody tr th {\n",
       "        vertical-align: top;\n",
       "    }\n",
       "\n",
       "    .dataframe thead th {\n",
       "        text-align: right;\n",
       "    }\n",
       "</style>\n",
       "<table border=\"1\" class=\"dataframe\">\n",
       "  <thead>\n",
       "    <tr style=\"text-align: right;\">\n",
       "      <th></th>\n",
       "      <th>Age</th>\n",
       "      <th>BMI</th>\n",
       "      <th>Glucose</th>\n",
       "      <th>Insulin</th>\n",
       "      <th>HOMA</th>\n",
       "      <th>Leptin</th>\n",
       "      <th>Adiponectin</th>\n",
       "      <th>Resistin</th>\n",
       "      <th>MCP.1</th>\n",
       "    </tr>\n",
       "  </thead>\n",
       "  <tbody>\n",
       "    <tr>\n",
       "      <th>0</th>\n",
       "      <td>48</td>\n",
       "      <td>23.500000</td>\n",
       "      <td>70</td>\n",
       "      <td>2.707</td>\n",
       "      <td>0.467409</td>\n",
       "      <td>8.8071</td>\n",
       "      <td>9.702400</td>\n",
       "      <td>7.99585</td>\n",
       "      <td>417.114</td>\n",
       "    </tr>\n",
       "    <tr>\n",
       "      <th>1</th>\n",
       "      <td>83</td>\n",
       "      <td>20.690495</td>\n",
       "      <td>92</td>\n",
       "      <td>3.115</td>\n",
       "      <td>0.706897</td>\n",
       "      <td>8.8438</td>\n",
       "      <td>5.429285</td>\n",
       "      <td>4.06405</td>\n",
       "      <td>468.786</td>\n",
       "    </tr>\n",
       "    <tr>\n",
       "      <th>2</th>\n",
       "      <td>82</td>\n",
       "      <td>23.124670</td>\n",
       "      <td>91</td>\n",
       "      <td>4.498</td>\n",
       "      <td>1.009651</td>\n",
       "      <td>17.9393</td>\n",
       "      <td>22.432040</td>\n",
       "      <td>9.27715</td>\n",
       "      <td>554.697</td>\n",
       "    </tr>\n",
       "    <tr>\n",
       "      <th>3</th>\n",
       "      <td>68</td>\n",
       "      <td>21.367521</td>\n",
       "      <td>77</td>\n",
       "      <td>3.226</td>\n",
       "      <td>0.612725</td>\n",
       "      <td>9.8827</td>\n",
       "      <td>7.169560</td>\n",
       "      <td>12.76600</td>\n",
       "      <td>928.220</td>\n",
       "    </tr>\n",
       "    <tr>\n",
       "      <th>4</th>\n",
       "      <td>86</td>\n",
       "      <td>21.111111</td>\n",
       "      <td>92</td>\n",
       "      <td>3.549</td>\n",
       "      <td>0.805386</td>\n",
       "      <td>6.6994</td>\n",
       "      <td>4.819240</td>\n",
       "      <td>10.57635</td>\n",
       "      <td>773.920</td>\n",
       "    </tr>\n",
       "  </tbody>\n",
       "</table>\n",
       "</div>"
      ],
      "text/plain": [
       "   Age        BMI  Glucose  Insulin      HOMA   Leptin  Adiponectin  Resistin  \\\n",
       "0   48  23.500000       70    2.707  0.467409   8.8071     9.702400   7.99585   \n",
       "1   83  20.690495       92    3.115  0.706897   8.8438     5.429285   4.06405   \n",
       "2   82  23.124670       91    4.498  1.009651  17.9393    22.432040   9.27715   \n",
       "3   68  21.367521       77    3.226  0.612725   9.8827     7.169560  12.76600   \n",
       "4   86  21.111111       92    3.549  0.805386   6.6994     4.819240  10.57635   \n",
       "\n",
       "     MCP.1  \n",
       "0  417.114  \n",
       "1  468.786  \n",
       "2  554.697  \n",
       "3  928.220  \n",
       "4  773.920  "
      ]
     },
     "execution_count": 7,
     "metadata": {},
     "output_type": "execute_result"
    }
   ],
   "source": [
    "X.head()"
   ]
  },
  {
   "cell_type": "code",
   "execution_count": 8,
   "id": "563a3158",
   "metadata": {},
   "outputs": [
    {
     "data": {
      "text/plain": [
       "0    1\n",
       "1    1\n",
       "2    1\n",
       "3    1\n",
       "4    1\n",
       "Name: Classification, dtype: int64"
      ]
     },
     "execution_count": 8,
     "metadata": {},
     "output_type": "execute_result"
    }
   ],
   "source": [
    "y.head()"
   ]
  },
  {
   "cell_type": "markdown",
   "id": "4384402c",
   "metadata": {},
   "source": [
    "Logistic regression is a statistical and machine learning technique used for binary and multi-class classification problems. It's a fundamental algorithm that's particularly useful for situations where you want to predict the probability of an event happening or assigning an observation to a specific category or class based on the values of one or more predictor variables (features). The default probability threshold for many binary classification tasks, including logistic regression, is typically set at 0.5.\n",
    "\n",
    "The accuracy of a logistic regression model is the percentage of correct predictions that it makes on a testing set. In scikit-learn, you can check the accuracy of a model with the .score() method."
   ]
  },
  {
   "cell_type": "code",
   "execution_count": 10,
   "id": "15a3b70c",
   "metadata": {},
   "outputs": [
    {
     "name": "stdout",
     "output_type": "stream",
     "text": [
      "0.8017241379310345\n"
     ]
    }
   ],
   "source": [
    "# Logistic regression model\n",
    "from sklearn.linear_model import LogisticRegression\n",
    "lr = LogisticRegression(max_iter=1000)\n",
    "\n",
    "# Fit the model\n",
    "lr.fit(X,y)\n",
    "# Print the accuracy of the model\n",
    "print(lr.score(X,y))"
   ]
  },
  {
   "cell_type": "markdown",
   "id": "0ec2c1d3",
   "metadata": {},
   "source": [
    "# Sequential Forward Selection"
   ]
  },
  {
   "cell_type": "markdown",
   "id": "d112ad84",
   "metadata": {},
   "source": [
    "Sequential Forward Selection (SFS) is a wrapper method used to build an optimal feature set by iteratively adding features to the model. It begins with an empty feature set and incrementally includes one feature at a time until a predefined number of features is reached or model performance is optimized.\n",
    "\n",
    "Let's consider an example using your dataset with the following features: Age, BMI, Glucose, Insulin, HOMA, Leptin, Adiponectin, Resistin, and MCP.1.\n",
    "\n",
    "* __Initial Step:__\n",
    "\n",
    "The algorithm starts by training and testing a model with each individual feature in isolation. It evaluates the performance of the model using only one feature at a time.\n",
    "Feature Selection Process:\n",
    "\n",
    "In each subsequent step, the algorithm assesses the model's performance for all possible feature additions to the current subset. It selects the feature that provides the most significant improvement in model performance.\n",
    "* __Iteration 1:__\n",
    "\n",
    "The algorithm begins with the best-performing single feature (e.g., \"Glucose\" if it offers the best performance). It then tests the model's performance using various combinations of the next feature to add, such as {Glucose, BMI}, {Glucose, HOMA}, and so on.\n",
    "* __Iteration 2:__\n",
    "\n",
    "The feature that enhances the model the most is added to the subset. For example, if {Glucose, BMI} performs best, the algorithm proceeds to the next iteration by considering the remaining features with this subset: {Glucose, BMI, Insulin}, {Glucose, BMI, Leptin}, and others.\n",
    "\n",
    "* __Iteration 3:__\n",
    "\n",
    "This process continues until you reach the desired number of features or until further additions don't improve the model's performance significantly. The algorithm stops when you have the optimal feature set that maximizes the model's predictive power.\n",
    "\n",
    "Sequential Forward Selection is a greedy algorithm. Instead of examining all possible feature subsets exhaustively, it selects the feature that offers the best immediate performance gain at each step. This approach helps identify a subset of features that work well together for your specific modeling task and dataset, potentially enhancing model accuracy and efficiency."
   ]
  },
  {
   "cell_type": "code",
   "execution_count": 14,
   "id": "27b37455",
   "metadata": {},
   "outputs": [],
   "source": [
    " from mlxtend.feature_selection import SequentialFeatureSelector as SFS"
   ]
  },
  {
   "cell_type": "code",
   "execution_count": 15,
   "id": "500d7fd1",
   "metadata": {},
   "outputs": [],
   "source": [
    "# Set up SFS parameters\n",
    "sfs = SFS(lr,\n",
    "           k_features=3, # number of features to select\n",
    "           forward=True,\n",
    "           floating=False,\n",
    "           scoring='accuracy',\n",
    "           cv=0)"
   ]
  },
  {
   "cell_type": "markdown",
   "id": "cecf7d91",
   "metadata": {},
   "source": [
    "__lr:__\n",
    "\n",
    "This refers to the machine learning model you want to use for Sequential Forward Selection. In my case, I've specified lr, which suggests that I am using a logistic regression model (lr typically stands for logistic regression).\n",
    "\n",
    "__k_features:__\n",
    "\n",
    "This parameter defines the number of features you want to select. In your example, you've set it to 3, indicating that you want to select the top 3 features based on the performance criterion you specify.\n",
    "\n",
    "__forward:__\n",
    "\n",
    "This parameter is a boolean (True or False) and controls whether you are using forward selection. In your case, you've set it to True, which means you are using Sequential Forward Selection. This approach starts with an empty feature set and adds features one at a time.\n",
    "\n",
    "__floating:__\n",
    "\n",
    "This is another boolean parameter that determines whether you are using floating selection. In your example, you've set it to False, which means you are not using floating selection. Floating selection allows features to be added or removed during the selection process, but you've chosen to keep it simple with only forward selection.\n",
    "scoring:\n",
    "\n",
    "This parameter specifies the performance metric used to evaluate the feature subsets at each step. In your case, you've set it to 'accuracy', indicating that you want to evaluate feature subsets based on their impact on classification accuracy.\n",
    "\n",
    "__cv:__\n",
    "\n",
    "This parameter stands for cross-validation. It defines the number of cross-validation folds to use when evaluating feature subsets. In your code, you've set it to 0, which could be considered as performing feature selection without cross-validation. In practice, cross-validation is often used to get a more robust estimate of model performance, and you might want to set this to a value such as 5 or 10 for a typical 5-fold or 10-fold cross-validation.\n",
    "By setting up these parameters, you are configuring the behavior of the Sequential Forward Selection algorithm for your specific use case, including the choice of model (logistic regression), the number of features to select (3), and the evaluation metric (accuracy)."
   ]
  },
  {
   "cell_type": "code",
   "execution_count": 16,
   "id": "8cc86895",
   "metadata": {},
   "outputs": [
    {
     "data": {
      "text/plain": [
       "SequentialFeatureSelector(cv=0, estimator=LogisticRegression(max_iter=1000),\n",
       "                          k_features=(3, 3), scoring='accuracy')"
      ]
     },
     "execution_count": 16,
     "metadata": {},
     "output_type": "execute_result"
    }
   ],
   "source": [
    "# Fit the equential forward selection model\n",
    "sfs.fit(X, y)"
   ]
  },
  {
   "cell_type": "markdown",
   "id": "3df4f0ec",
   "metadata": {},
   "source": [
    "# Evaluating the Result of Sequential Forward Selection"
   ]
  },
  {
   "cell_type": "code",
   "execution_count": 18,
   "id": "d9ed0d5b",
   "metadata": {},
   "outputs": [
    {
     "data": {
      "text/plain": [
       "{1: {'feature_idx': (2,),\n",
       "  'cv_scores': array([0.72413793]),\n",
       "  'avg_score': 0.7241379310344828,\n",
       "  'feature_names': ('Glucose',)},\n",
       " 2: {'feature_idx': (0, 2),\n",
       "  'cv_scores': array([0.73275862]),\n",
       "  'avg_score': 0.7327586206896551,\n",
       "  'feature_names': ('Age', 'Glucose')},\n",
       " 3: {'feature_idx': (0, 2, 3),\n",
       "  'cv_scores': array([0.76724138]),\n",
       "  'avg_score': 0.7672413793103449,\n",
       "  'feature_names': ('Age', 'Glucose', 'Insulin')}}"
      ]
     },
     "execution_count": 18,
     "metadata": {},
     "output_type": "execute_result"
    }
   ],
   "source": [
    "sfs.subsets_"
   ]
  },
  {
   "cell_type": "code",
   "execution_count": 19,
   "id": "2d45b46b",
   "metadata": {},
   "outputs": [
    {
     "name": "stdout",
     "output_type": "stream",
     "text": [
      "('Age', 'Glucose', 'Insulin')\n"
     ]
    }
   ],
   "source": [
    "# Print the chosen feature names\n",
    "print(sfs.subsets_[3][\"feature_names\"])"
   ]
  },
  {
   "cell_type": "code",
   "execution_count": 20,
   "id": "63af5063",
   "metadata": {},
   "outputs": [
    {
     "name": "stdout",
     "output_type": "stream",
     "text": [
      "0.7672413793103449\n"
     ]
    }
   ],
   "source": [
    "# Print the accuracy of the model after sequential forward selection\n",
    "print(sfs.subsets_[3]['avg_score'])"
   ]
  },
  {
   "cell_type": "code",
   "execution_count": 21,
   "id": "12ee3860",
   "metadata": {},
   "outputs": [
    {
     "name": "stderr",
     "output_type": "stream",
     "text": [
      "C:\\Users\\Lenovo\\anaconda3\\lib\\site-packages\\numpy\\core\\_methods.py:262: RuntimeWarning: Degrees of freedom <= 0 for slice\n",
      "  ret = _var(a, axis=axis, dtype=dtype, out=out, ddof=ddof,\n",
      "C:\\Users\\Lenovo\\anaconda3\\lib\\site-packages\\numpy\\core\\_methods.py:254: RuntimeWarning: invalid value encountered in double_scalars\n",
      "  ret = ret.dtype.type(ret / rcount)\n"
     ]
    },
    {
     "data": {
      "image/png": "[encoded data removed]",
      "text/plain": [
       "<Figure size 640x480 with 1 Axes>"
      ]
     },
     "metadata": {},
     "output_type": "display_data"
    }
   ],
   "source": [
    "from mlxtend.plotting import plot_sequential_feature_selection as plot_sfs\n",
    "import matplotlib.pyplot as plt\n",
    "\n",
    "# Plot the accuracy of the model as a function of the number of features\n",
    "plot_sfs(sfs.get_metric_dict())\n",
    "plt.show()"
   ]
  },
  {
   "cell_type": "markdown",
   "id": "ad50ab94",
   "metadata": {},
   "source": [
    "# Sequential Backward Selection with mlxtend"
   ]
  },
  {
   "cell_type": "markdown",
   "id": "58534e46",
   "metadata": {},
   "source": [
    "Sequential backward selection is the reverse of forward selection. It begins with all features and iteratively removes the least important features based on model performance.\n",
    "\n",
    "This technique helps identify features that have the least impact on model accuracy, streamlining the feature set."
   ]
  },
  {
   "cell_type": "code",
   "execution_count": 43,
   "id": "1d454895",
   "metadata": {},
   "outputs": [],
   "source": [
    "# Sequential backward selection\n",
    "sbs = SFS(lr,\n",
    "          k_features=3,\n",
    "          forward=False,\n",
    "          floating=False,\n",
    "          scoring='accuracy',\n",
    "          cv=0)"
   ]
  },
  {
   "cell_type": "markdown",
   "id": "2c47e95f",
   "metadata": {},
   "source": [
    "To implement sequential backward selection in mlxtend you can use the same SFS class you used for sequential forward selection. The only difference is that you have to set the parameter forward to False."
   ]
  },
  {
   "cell_type": "code",
   "execution_count": 44,
   "id": "ac094356",
   "metadata": {},
   "outputs": [
    {
     "data": {
      "text/plain": [
       "SequentialFeatureSelector(cv=0, estimator=LogisticRegression(max_iter=1000),\n",
       "                          forward=False, k_features=(3, 3), scoring='accuracy')"
      ]
     },
     "execution_count": 44,
     "metadata": {},
     "output_type": "execute_result"
    }
   ],
   "source": [
    "# Fit sbs to X and y\n",
    "sbs.fit(X,y)"
   ]
  },
  {
   "cell_type": "markdown",
   "id": "0a687c9b",
   "metadata": {},
   "source": [
    "# Evaluating the Result of Sequential Backward Selection"
   ]
  },
  {
   "cell_type": "code",
   "execution_count": 45,
   "id": "e57a07a2",
   "metadata": {},
   "outputs": [
    {
     "data": {
      "text/plain": [
       "{9: {'feature_idx': (0, 1, 2, 3, 4, 5, 6, 7, 8),\n",
       "  'cv_scores': array([0.80172414]),\n",
       "  'avg_score': 0.8017241379310345,\n",
       "  'feature_names': ('Age',\n",
       "   'BMI',\n",
       "   'Glucose',\n",
       "   'Insulin',\n",
       "   'HOMA',\n",
       "   'Leptin',\n",
       "   'Adiponectin',\n",
       "   'Resistin',\n",
       "   'MCP.1')},\n",
       " 8: {'feature_idx': (0, 1, 2, 3, 4, 5, 6, 7),\n",
       "  'cv_scores': array([0.80172414]),\n",
       "  'avg_score': 0.8017241379310345,\n",
       "  'feature_names': ('Age',\n",
       "   'BMI',\n",
       "   'Glucose',\n",
       "   'Insulin',\n",
       "   'HOMA',\n",
       "   'Leptin',\n",
       "   'Adiponectin',\n",
       "   'Resistin')},\n",
       " 7: {'feature_idx': (0, 1, 2, 3, 4, 5, 7),\n",
       "  'cv_scores': array([0.80172414]),\n",
       "  'avg_score': 0.8017241379310345,\n",
       "  'feature_names': ('Age',\n",
       "   'BMI',\n",
       "   'Glucose',\n",
       "   'Insulin',\n",
       "   'HOMA',\n",
       "   'Leptin',\n",
       "   'Resistin')},\n",
       " 6: {'feature_idx': (0, 1, 2, 3, 5, 7),\n",
       "  'cv_scores': array([0.80172414]),\n",
       "  'avg_score': 0.8017241379310345,\n",
       "  'feature_names': ('Age', 'BMI', 'Glucose', 'Insulin', 'Leptin', 'Resistin')},\n",
       " 5: {'feature_idx': (0, 1, 2, 3, 7),\n",
       "  'cv_scores': array([0.79310345]),\n",
       "  'avg_score': 0.7931034482758621,\n",
       "  'feature_names': ('Age', 'BMI', 'Glucose', 'Insulin', 'Resistin')},\n",
       " 4: {'feature_idx': (0, 1, 2, 7),\n",
       "  'cv_scores': array([0.76724138]),\n",
       "  'avg_score': 0.7672413793103449,\n",
       "  'feature_names': ('Age', 'BMI', 'Glucose', 'Resistin')},\n",
       " 3: {'feature_idx': (0, 2, 7),\n",
       "  'cv_scores': array([0.74137931]),\n",
       "  'avg_score': 0.7413793103448276,\n",
       "  'feature_names': ('Age', 'Glucose', 'Resistin')}}"
      ]
     },
     "execution_count": 45,
     "metadata": {},
     "output_type": "execute_result"
    }
   ],
   "source": [
    "sbs.subsets_"
   ]
  },
  {
   "cell_type": "code",
   "execution_count": 46,
   "id": "7448f7ce",
   "metadata": {},
   "outputs": [
    {
     "name": "stdout",
     "output_type": "stream",
     "text": [
      "('Age', 'Glucose', 'Resistin')\n"
     ]
    }
   ],
   "source": [
    "# Print the chosen feature names\n",
    "print(sbs.subsets_[3][\"feature_names\"])"
   ]
  },
  {
   "cell_type": "code",
   "execution_count": 47,
   "id": "96fcedd0",
   "metadata": {},
   "outputs": [
    {
     "name": "stdout",
     "output_type": "stream",
     "text": [
      "0.7413793103448276\n"
     ]
    }
   ],
   "source": [
    "# Print the accuracy of the model after sequential forward selection\n",
    "print(sbs.subsets_[3]['avg_score'])"
   ]
  },
  {
   "cell_type": "code",
   "execution_count": 48,
   "id": "f467c04f",
   "metadata": {},
   "outputs": [
    {
     "name": "stderr",
     "output_type": "stream",
     "text": [
      "C:\\Users\\Lenovo\\anaconda3\\lib\\site-packages\\numpy\\core\\_methods.py:262: RuntimeWarning: Degrees of freedom <= 0 for slice\n",
      "  ret = _var(a, axis=axis, dtype=dtype, out=out, ddof=ddof,\n",
      "C:\\Users\\Lenovo\\anaconda3\\lib\\site-packages\\numpy\\core\\_methods.py:254: RuntimeWarning: invalid value encountered in double_scalars\n",
      "  ret = ret.dtype.type(ret / rcount)\n"
     ]
    },
    {
     "data": {
      "image/png": "[encoded data removed]",
      "text/plain": [
       "<Figure size 640x480 with 1 Axes>"
      ]
     },
     "metadata": {},
     "output_type": "display_data"
    }
   ],
   "source": [
    "# Plot the accuracy of the model as a function of the number of features\n",
    "plot_sfs(sbs.get_metric_dict())\n",
    "plt.show()"
   ]
  },
  {
   "cell_type": "markdown",
   "id": "ab018813",
   "metadata": {},
   "source": [
    "# Sequential Forward and Backward Floating Selection"
   ]
  },
  {
   "cell_type": "markdown",
   "id": "c40e15f6",
   "metadata": {},
   "source": [
    "Sequential __forward floating__ selection combines forward and backward selection. It starts with an empty feature set, adds features, and occasionally removes features that don't contribute to model performance.\n",
    "\n",
    "This hybrid approach aims to strike a balance between forward and backward selection, refining the feature set iteratively."
   ]
  },
  {
   "cell_type": "markdown",
   "id": "6102e504",
   "metadata": {},
   "source": [
    "Sequential __backward floating__ selection is similar to its forward counterpart but begins with all features and occasionally adds or removes them to optimize model performance.\n",
    "This method seeks to identify the most important features while discarding those that have little impact on the model."
   ]
  },
  {
   "cell_type": "markdown",
   "id": "ad080835",
   "metadata": {},
   "source": [
    "Let's first use __Sequential backward floating__ by setting __forward__ = \"False\"."
   ]
  },
  {
   "cell_type": "code",
   "execution_count": 49,
   "id": "94673d9f",
   "metadata": {},
   "outputs": [],
   "source": [
    "sbfs = SFS(lr,\n",
    "          k_features=3,\n",
    "          forward=False,\n",
    "          floating=True,\n",
    "          scoring='accuracy',\n",
    "          cv=0)"
   ]
  },
  {
   "cell_type": "code",
   "execution_count": 50,
   "id": "5183fe93",
   "metadata": {},
   "outputs": [
    {
     "data": {
      "text/plain": [
       "SequentialFeatureSelector(cv=0, estimator=LogisticRegression(max_iter=1000),\n",
       "                          floating=True, forward=False, k_features=(3, 3),\n",
       "                          scoring='accuracy')"
      ]
     },
     "execution_count": 50,
     "metadata": {},
     "output_type": "execute_result"
    }
   ],
   "source": [
    "sbfs.fit(X, y)"
   ]
  },
  {
   "cell_type": "code",
   "execution_count": 53,
   "id": "0b8f42e1",
   "metadata": {},
   "outputs": [
    {
     "data": {
      "text/plain": [
       "{9: {'feature_idx': (0, 1, 2, 3, 4, 5, 6, 7, 8),\n",
       "  'cv_scores': array([0.80172414]),\n",
       "  'avg_score': 0.8017241379310345,\n",
       "  'feature_names': ('Age',\n",
       "   'BMI',\n",
       "   'Glucose',\n",
       "   'Insulin',\n",
       "   'HOMA',\n",
       "   'Leptin',\n",
       "   'Adiponectin',\n",
       "   'Resistin',\n",
       "   'MCP.1')},\n",
       " 8: {'feature_idx': (0, 1, 2, 3, 4, 5, 6, 7),\n",
       "  'cv_scores': array([0.80172414]),\n",
       "  'avg_score': 0.8017241379310345,\n",
       "  'feature_names': ('Age',\n",
       "   'BMI',\n",
       "   'Glucose',\n",
       "   'Insulin',\n",
       "   'HOMA',\n",
       "   'Leptin',\n",
       "   'Adiponectin',\n",
       "   'Resistin')},\n",
       " 7: {'feature_idx': (0, 1, 2, 3, 4, 5, 7),\n",
       "  'cv_scores': array([0.80172414]),\n",
       "  'avg_score': 0.8017241379310345,\n",
       "  'feature_names': ('Age',\n",
       "   'BMI',\n",
       "   'Glucose',\n",
       "   'Insulin',\n",
       "   'HOMA',\n",
       "   'Leptin',\n",
       "   'Resistin')},\n",
       " 6: {'feature_idx': (0, 1, 2, 3, 5, 7),\n",
       "  'cv_scores': array([0.80172414]),\n",
       "  'avg_score': 0.8017241379310345,\n",
       "  'feature_names': ('Age', 'BMI', 'Glucose', 'Insulin', 'Leptin', 'Resistin')},\n",
       " 5: {'feature_idx': (0, 1, 2, 3, 7),\n",
       "  'cv_scores': array([0.79310345]),\n",
       "  'avg_score': 0.7931034482758621,\n",
       "  'feature_names': ('Age', 'BMI', 'Glucose', 'Insulin', 'Resistin')},\n",
       " 4: {'feature_idx': (0, 1, 2, 7),\n",
       "  'cv_scores': array([0.76724138]),\n",
       "  'avg_score': 0.7672413793103449,\n",
       "  'feature_names': ('Age', 'BMI', 'Glucose', 'Resistin')},\n",
       " 3: {'feature_idx': (0, 2, 7),\n",
       "  'cv_scores': array([0.74137931]),\n",
       "  'avg_score': 0.7413793103448276,\n",
       "  'feature_names': ('Age', 'Glucose', 'Resistin')}}"
      ]
     },
     "execution_count": 53,
     "metadata": {},
     "output_type": "execute_result"
    }
   ],
   "source": [
    "sbfs.subsets_"
   ]
  },
  {
   "cell_type": "code",
   "execution_count": 54,
   "id": "90289e1d",
   "metadata": {},
   "outputs": [
    {
     "name": "stdout",
     "output_type": "stream",
     "text": [
      "('Age', 'Glucose', 'Resistin')\n"
     ]
    }
   ],
   "source": [
    "print(sbfs.subsets_[3]['feature_names'])"
   ]
  },
  {
   "cell_type": "code",
   "execution_count": 55,
   "id": "7bcdcc10",
   "metadata": {},
   "outputs": [
    {
     "name": "stdout",
     "output_type": "stream",
     "text": [
      "0.7413793103448276\n"
     ]
    }
   ],
   "source": [
    "print(sbfs.subsets_[3][\"avg_score\"])"
   ]
  },
  {
   "cell_type": "markdown",
   "id": "859c7ab6",
   "metadata": {},
   "source": [
    "Now, let's use Sequential __forward floating__ by setting __forward__ = \"True\"."
   ]
  },
  {
   "cell_type": "code",
   "execution_count": 56,
   "id": "29ea9433",
   "metadata": {},
   "outputs": [
    {
     "data": {
      "text/plain": [
       "SequentialFeatureSelector(cv=0, estimator=LogisticRegression(max_iter=1000),\n",
       "                          floating=True, k_features=(3, 3), scoring='accuracy')"
      ]
     },
     "execution_count": 56,
     "metadata": {},
     "output_type": "execute_result"
    }
   ],
   "source": [
    "sffs = SFS(lr,\n",
    "          k_features=3,\n",
    "          forward= True,\n",
    "          floating= True,\n",
    "          scoring='accuracy',\n",
    "          cv=0)\n",
    "sffs.fit(X, y)"
   ]
  },
  {
   "cell_type": "code",
   "execution_count": 58,
   "id": "4f6e5600",
   "metadata": {},
   "outputs": [
    {
     "data": {
      "text/plain": [
       "{1: {'feature_idx': (2,),\n",
       "  'cv_scores': array([0.72413793]),\n",
       "  'avg_score': 0.7241379310344828,\n",
       "  'feature_names': ('Glucose',)},\n",
       " 2: {'feature_idx': (0, 2),\n",
       "  'cv_scores': array([0.73275862]),\n",
       "  'avg_score': 0.7327586206896551,\n",
       "  'feature_names': ('Age', 'Glucose')},\n",
       " 3: {'feature_idx': (0, 2, 3),\n",
       "  'cv_scores': array([0.76724138]),\n",
       "  'avg_score': 0.7672413793103449,\n",
       "  'feature_names': ('Age', 'Glucose', 'Insulin')}}"
      ]
     },
     "execution_count": 58,
     "metadata": {},
     "output_type": "execute_result"
    }
   ],
   "source": [
    "sffs.subsets_"
   ]
  },
  {
   "cell_type": "code",
   "execution_count": 59,
   "id": "932199dc",
   "metadata": {},
   "outputs": [
    {
     "name": "stdout",
     "output_type": "stream",
     "text": [
      "('Age', 'Glucose', 'Resistin')\n"
     ]
    }
   ],
   "source": [
    "print(sbfs.subsets_[3]['feature_names'])"
   ]
  },
  {
   "cell_type": "code",
   "execution_count": 60,
   "id": "aaf59e84",
   "metadata": {},
   "outputs": [
    {
     "name": "stdout",
     "output_type": "stream",
     "text": [
      "0.7413793103448276\n"
     ]
    }
   ],
   "source": [
    "print(sbfs.subsets_[3][\"avg_score\"])"
   ]
  },
  {
   "cell_type": "markdown",
   "id": "6795a820",
   "metadata": {},
   "source": [
    "# Recursive Feature Elimination"
   ]
  },
  {
   "cell_type": "markdown",
   "id": "4ba70a09",
   "metadata": {},
   "source": [
    "In the world of feature engineering and dimensionality reduction, Recursive Feature Elimination (RFE) is a powerful technique aimed at selecting the most informative features for machine learning models. RFE operates by systematically removing the least significant features from the dataset, iteratively enhancing model performance. This method offers a structured approach to feature selection and has various practical applications."
   ]
  },
  {
   "cell_type": "markdown",
   "id": "ccdac46e",
   "metadata": {},
   "source": [
    "__Iterative Elimination:__\n",
    "* RFE starts with all available features and iteratively removes the least important feature(s) based on a ranking criterion, often calculated using a machine learning model's coefficients or feature importance scores.\n",
    "\n",
    "__Model-Based Ranking:__\n",
    "* RFE leverages a machine learning model (e.g., logistic regression, random forest) to rank the importance of features. The model is trained on the dataset with all features, and each feature's significance is assessed based on its contribution to the model's predictive accuracy.\n",
    "\n",
    "__Recursive Process:__\n",
    "* Features are eliminated one at a time, and the process continues until a predetermined number of features remains or until model performance stabilizes. The algorithm halts when the optimal subset of features is found.\n",
    "\n",
    "__Evaluation Metric:__\n",
    "* The choice of evaluation metric is essential for RFE. Common metrics include accuracy, F1-score, or any suitable measure for the specific problem at hand. The metric guides the elimination process to optimize model performance.\n",
    "\n",
    "__Benefits of RFE:__\n",
    "\n",
    "* __Improved Model Efficiency:__ By reducing the number of features, RFE can lead to faster model training and lower computational costs.\n",
    "\n",
    "* __Enhanced Model Performance:__ Selecting the most relevant features often results in more accurate and interpretable models.\n",
    "\n",
    "* __Overfitting Mitigation:__ RFE helps prevent overfitting, especially when the original dataset contains noisy or irrelevant features.\n",
    "\n",
    "* __Feature Importance Insights:__ RFE provides insights into which features are most influential in making predictions."
   ]
  },
  {
   "cell_type": "markdown",
   "id": "8880e806",
   "metadata": {},
   "source": [
    "# Recursive Feature Elimination with scikit-learn"
   ]
  },
  {
   "cell_type": "code",
   "execution_count": 63,
   "id": "18e69a94",
   "metadata": {},
   "outputs": [],
   "source": [
    "import pandas as pd\n",
    "import numpy as np\n",
    "from sklearn.linear_model import LogisticRegression\n",
    "from sklearn.feature_selection import RFE\n",
    "from sklearn.preprocessing import StandardScaler"
   ]
  },
  {
   "cell_type": "code",
   "execution_count": 64,
   "id": "20293a9f",
   "metadata": {},
   "outputs": [],
   "source": [
    "# Load the data\n",
    "health = pd.read_csv(\"data/dataR2.csv\")\n",
    "X = np.array(health.iloc[:,:-1])\n",
    "y = np.array(health.iloc[:,-1])"
   ]
  },
  {
   "cell_type": "code",
   "execution_count": 65,
   "id": "3cb3ebc1",
   "metadata": {},
   "outputs": [],
   "source": [
    "# Standardize the data\n",
    "X = StandardScaler().fit_transform(X)"
   ]
  },
  {
   "cell_type": "code",
   "execution_count": 66,
   "id": "a86a9ede",
   "metadata": {},
   "outputs": [],
   "source": [
    "# Logistic regression model\n",
    "lr = LogisticRegression(max_iter=1000)"
   ]
  },
  {
   "cell_type": "code",
   "execution_count": 69,
   "id": "10cb5280",
   "metadata": {},
   "outputs": [],
   "source": [
    "# Recursive feature elimination\n",
    "rfe = RFE(lr, n_features_to_select=3)"
   ]
  },
  {
   "cell_type": "code",
   "execution_count": 70,
   "id": "9a88dc65",
   "metadata": {},
   "outputs": [
    {
     "data": {
      "text/plain": [
       "RFE(estimator=LogisticRegression(max_iter=1000), n_features_to_select=3)"
      ]
     },
     "execution_count": 70,
     "metadata": {},
     "output_type": "execute_result"
    }
   ],
   "source": [
    "rfe.fit(X, y)"
   ]
  },
  {
   "cell_type": "markdown",
   "id": "2879efae",
   "metadata": {},
   "source": [
    "# Evaluating the Result of Recursive Feature Elimination"
   ]
  },
  {
   "cell_type": "code",
   "execution_count": 72,
   "id": "dbd28af6",
   "metadata": {},
   "outputs": [],
   "source": [
    "# Load the data\n",
    "health = pd.read_csv(\"data/dataR2.csv\")\n",
    "X = health.iloc[:,:-1]\n",
    "y = health.iloc[:,-1]"
   ]
  },
  {
   "cell_type": "code",
   "execution_count": 73,
   "id": "352c5ca4",
   "metadata": {},
   "outputs": [],
   "source": [
    "# Create a list of feature names\n",
    "feature_list = list(X.columns)"
   ]
  },
  {
   "cell_type": "code",
   "execution_count": 74,
   "id": "ee5469aa",
   "metadata": {},
   "outputs": [
    {
     "data": {
      "text/plain": [
       "RFE(estimator=LogisticRegression(max_iter=1000), n_features_to_select=3)"
      ]
     },
     "execution_count": 74,
     "metadata": {},
     "output_type": "execute_result"
    }
   ],
   "source": [
    "# Standardize the data\n",
    "X = StandardScaler().fit_transform(X)\n",
    "\n",
    "# Logistic regression\n",
    "lr = LogisticRegression(max_iter=1000)\n",
    "\n",
    "# Recursive feature elimination\n",
    "rfe = RFE(estimator=lr, n_features_to_select=3)\n",
    "rfe.fit(X, y)"
   ]
  },
  {
   "cell_type": "code",
   "execution_count": 75,
   "id": "9f7ffafc",
   "metadata": {},
   "outputs": [],
   "source": [
    "# List of features chosen by recursive feature elimination\n",
    "rfe_features = [f for (f, support) in zip(feature_list, rfe.support_) if support]"
   ]
  },
  {
   "cell_type": "code",
   "execution_count": 76,
   "id": "1e7d6d95",
   "metadata": {},
   "outputs": [
    {
     "name": "stdout",
     "output_type": "stream",
     "text": [
      "0.7327586206896551\n"
     ]
    }
   ],
   "source": [
    "print(rfe.score(X, y))"
   ]
  },
  {
   "cell_type": "code",
   "execution_count": 79,
   "id": "6fb8a740",
   "metadata": {
    "scrolled": true
   },
   "outputs": [
    {
     "name": "stdout",
     "output_type": "stream",
     "text": [
      "['BMI', 'Glucose', 'Resistin']\n"
     ]
    }
   ],
   "source": [
    "# features chosen by recursive feature elimination\n",
    "print(rfe_features)"
   ]
  },
  {
   "cell_type": "code",
   "execution_count": 80,
   "id": "9e99fae5",
   "metadata": {},
   "outputs": [
    {
     "name": "stdout",
     "output_type": "stream",
     "text": [
      "['Age', 'BMI', 'Glucose', 'Insulin', 'HOMA', 'Leptin', 'Adiponectin', 'Resistin', 'MCP.1']\n"
     ]
    }
   ],
   "source": [
    "# list of feature names\n",
    "print(feature_list)"
   ]
  },
  {
   "cell_type": "code",
   "execution_count": 77,
   "id": "288f28b6",
   "metadata": {},
   "outputs": [
    {
     "name": "stdout",
     "output_type": "stream",
     "text": [
      "[4 1 1 2 3 5 7 1 6]\n"
     ]
    }
   ],
   "source": [
    "print(rfe.ranking_)"
   ]
  },
  {
   "cell_type": "code",
   "execution_count": 78,
   "id": "8c58478d",
   "metadata": {
    "scrolled": true
   },
   "outputs": [
    {
     "name": "stdout",
     "output_type": "stream",
     "text": [
      "[False  True  True False False False False  True False]\n"
     ]
    }
   ],
   "source": [
    "print(rfe.support_)"
   ]
  },
  {
   "cell_type": "markdown",
   "id": "6633143d",
   "metadata": {},
   "source": [
    "The breast cancer data for this lesson were taken from the UCI Machine Learning Repository. [Patricio, 2018] Patrício, M., Pereira, J., Crisóstomo, J., Matafome, P., Gomes, M., Seiça, R., & Caramelo, F. (2018). Using Resistin, glucose, age and BMI to predict the presence of breast cancer. BMC Cancer, 18(1)."
   ]
  }
 ],
 "metadata": {
  "kernelspec": {
   "display_name": "Python 3 (ipykernel)",
   "language": "python",
   "name": "python3"
  },
  "language_info": {
   "codemirror_mode": {
    "name": "ipython",
    "version": 3
   },
   "file_extension": ".py",
   "mimetype": "text/x-python",
   "name": "python",
   "nbconvert_exporter": "python",
   "pygments_lexer": "ipython3",
   "version": "3.9.13"
  }
 },
 "nbformat": 4,
 "nbformat_minor": 5
}
