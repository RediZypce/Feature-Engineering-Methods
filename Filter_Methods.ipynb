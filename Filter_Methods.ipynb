{
 "cells": [
  {
   "cell_type": "markdown",
   "id": "83f6aeff",
   "metadata": {},
   "source": [
    "# Introduction:\n",
    "In this Jupyter Notebook project, we will explore the essential techniques and methodologies of feature engineering to enhance the quality of our dataset for better predictive modeling. Feature engineering is a crucial step in the data preprocessing pipeline, aimed at selecting, transforming, and creating new features to improve model performance."
   ]
  },
  {
   "cell_type": "markdown",
   "id": "3222a68b",
   "metadata": {},
   "source": [
    "# Objective:\n",
    "Our main goal is to optimize feature selection and transformation using various techniques such as variance threshold, Pearson's correlation, correlation between features, correlation with the target variable, and mutual information. We will demonstrate how each of these techniques can be applied to a dataset, highlighting their significance in improving model accuracy, reducing overfitting, and speeding up training."
   ]
  },
  {
   "cell_type": "markdown",
   "id": "639f123f",
   "metadata": {},
   "source": [
    "# Project Structure:\n",
    "\n",
    "* __Data Preparation:__ We will start by creating and inspecting the dataset.\n",
    "\n",
    "* __Variance Threshold:__ This section will focus on identifying and removing low-variance features that do not contribute significantly to the model's performance. We will use the VarianceThreshold class from scikit-learn to perform this operation.\n",
    "\n",
    "* __Pearson's Correlation:__ We will analyze the correlation between numerical features in the dataset using Pearson's correlation coefficient. Features that exhibit high correlations will be evaluated, and we will decide whether to keep, transform, or remove them to avoid multicollinearity.\n",
    "\n",
    "* __Correlation with Target Variable:__ It's important to understand how each feature is correlated with the target variable. We will explore how strongly each feature influences the target and consider feature selection based on these insights.\n",
    "\n",
    "* __Correlation Between Features:__ Multicollinearity can negatively impact model performance. In this section, we will delve into the correlation between features to identify and mitigate multicollinearity.\n",
    "\n",
    "* __Mutual Information:__ We will compute mutual information scores for feature selection. This metric captures the dependency between features and the target, even for nonlinear relationships."
   ]
  },
  {
   "cell_type": "markdown",
   "id": "e5fd9e4f",
   "metadata": {},
   "source": [
    "# Key Takeaways:\n",
    "At the end of this project, you will have a deep understanding of the importance of feature engineering and a set of practical techniques to apply in your own data analysis and model building projects. By selecting and engineering features strategically, you can build more accurate and robust machine learning models.\n",
    "\n",
    "Let's get started with the feature engineering journey!"
   ]
  },
  {
   "cell_type": "code",
   "execution_count": null,
   "id": "f9691856",
   "metadata": {},
   "outputs": [],
   "source": [
    "import pandas as pd\n",
    "\n",
    "df = pd.DataFrame(data={\n",
    "    'edu_goal': ['bachelors', 'bachelors', 'bachelors', 'masters', 'masters', 'masters', 'masters', 'phd', 'phd', 'phd'],\n",
    "    'hours_study': [1, 2, 3, 3, 3, 4, 3, 4, 5, 5],\n",
    "    'hours_TV': [4, 3, 4, 3, 2, 3, 2, 2, 1, 1],\n",
    "    'hours_sleep': [10, 10, 8, 8, 6, 6, 8, 8, 10, 10],\n",
    "    'height_cm': [155, 151, 160, 160, 156, 150, 164, 151, 158, 152],\n",
    "    'grade_level': [8, 8, 8, 8, 8, 8, 8, 8, 8, 8],\n",
    "    'exam_score': [71, 72, 78, 79, 85, 86, 92, 93, 99, 100]\n",
    "})\n",
    "\n",
    "df.head()"
   ]
  },
  {
   "cell_type": "code",
   "execution_count": 2,
   "id": "12b84e52",
   "metadata": {},
   "outputs": [
    {
     "data": {
      "text/html": [
       "<div>\n",
       "<style scoped>\n",
       "    .dataframe tbody tr th:only-of-type {\n",
       "        vertical-align: middle;\n",
       "    }\n",
       "\n",
       "    .dataframe tbody tr th {\n",
       "        vertical-align: top;\n",
       "    }\n",
       "\n",
       "    .dataframe thead th {\n",
       "        text-align: right;\n",
       "    }\n",
       "</style>\n",
       "<table border=\"1\" class=\"dataframe\">\n",
       "  <thead>\n",
       "    <tr style=\"text-align: right;\">\n",
       "      <th></th>\n",
       "      <th>edu_goal</th>\n",
       "      <th>hours_study</th>\n",
       "      <th>hours_TV</th>\n",
       "      <th>hours_sleep</th>\n",
       "      <th>height_cm</th>\n",
       "      <th>grade_level</th>\n",
       "    </tr>\n",
       "  </thead>\n",
       "  <tbody>\n",
       "    <tr>\n",
       "      <th>0</th>\n",
       "      <td>bachelors</td>\n",
       "      <td>1</td>\n",
       "      <td>4</td>\n",
       "      <td>10</td>\n",
       "      <td>155</td>\n",
       "      <td>8</td>\n",
       "    </tr>\n",
       "    <tr>\n",
       "      <th>1</th>\n",
       "      <td>bachelors</td>\n",
       "      <td>2</td>\n",
       "      <td>3</td>\n",
       "      <td>10</td>\n",
       "      <td>151</td>\n",
       "      <td>8</td>\n",
       "    </tr>\n",
       "    <tr>\n",
       "      <th>2</th>\n",
       "      <td>bachelors</td>\n",
       "      <td>3</td>\n",
       "      <td>4</td>\n",
       "      <td>8</td>\n",
       "      <td>160</td>\n",
       "      <td>8</td>\n",
       "    </tr>\n",
       "    <tr>\n",
       "      <th>3</th>\n",
       "      <td>masters</td>\n",
       "      <td>3</td>\n",
       "      <td>3</td>\n",
       "      <td>8</td>\n",
       "      <td>160</td>\n",
       "      <td>8</td>\n",
       "    </tr>\n",
       "    <tr>\n",
       "      <th>4</th>\n",
       "      <td>masters</td>\n",
       "      <td>3</td>\n",
       "      <td>2</td>\n",
       "      <td>6</td>\n",
       "      <td>156</td>\n",
       "      <td>8</td>\n",
       "    </tr>\n",
       "    <tr>\n",
       "      <th>5</th>\n",
       "      <td>masters</td>\n",
       "      <td>4</td>\n",
       "      <td>3</td>\n",
       "      <td>6</td>\n",
       "      <td>150</td>\n",
       "      <td>8</td>\n",
       "    </tr>\n",
       "    <tr>\n",
       "      <th>6</th>\n",
       "      <td>masters</td>\n",
       "      <td>3</td>\n",
       "      <td>2</td>\n",
       "      <td>8</td>\n",
       "      <td>164</td>\n",
       "      <td>8</td>\n",
       "    </tr>\n",
       "    <tr>\n",
       "      <th>7</th>\n",
       "      <td>phd</td>\n",
       "      <td>4</td>\n",
       "      <td>2</td>\n",
       "      <td>8</td>\n",
       "      <td>151</td>\n",
       "      <td>8</td>\n",
       "    </tr>\n",
       "    <tr>\n",
       "      <th>8</th>\n",
       "      <td>phd</td>\n",
       "      <td>5</td>\n",
       "      <td>1</td>\n",
       "      <td>10</td>\n",
       "      <td>158</td>\n",
       "      <td>8</td>\n",
       "    </tr>\n",
       "    <tr>\n",
       "      <th>9</th>\n",
       "      <td>phd</td>\n",
       "      <td>5</td>\n",
       "      <td>1</td>\n",
       "      <td>10</td>\n",
       "      <td>152</td>\n",
       "      <td>8</td>\n",
       "    </tr>\n",
       "  </tbody>\n",
       "</table>\n",
       "</div>"
      ],
      "text/plain": [
       "    edu_goal  hours_study  hours_TV  hours_sleep  height_cm  grade_level\n",
       "0  bachelors            1         4           10        155            8\n",
       "1  bachelors            2         3           10        151            8\n",
       "2  bachelors            3         4            8        160            8\n",
       "3    masters            3         3            8        160            8\n",
       "4    masters            3         2            6        156            8\n",
       "5    masters            4         3            6        150            8\n",
       "6    masters            3         2            8        164            8\n",
       "7        phd            4         2            8        151            8\n",
       "8        phd            5         1           10        158            8\n",
       "9        phd            5         1           10        152            8"
      ]
     },
     "execution_count": 2,
     "metadata": {},
     "output_type": "execute_result"
    }
   ],
   "source": [
    "# 10 x 6 features matrix\n",
    "X = df.drop(columns=['exam_score'])\n",
    "X.head(10)"
   ]
  },
  {
   "cell_type": "code",
   "execution_count": 3,
   "id": "925438d3",
   "metadata": {},
   "outputs": [
    {
     "data": {
      "text/plain": [
       "0    71\n",
       "1    72\n",
       "2    78\n",
       "3    79\n",
       "4    85\n",
       "Name: exam_score, dtype: int64"
      ]
     },
     "execution_count": 3,
     "metadata": {},
     "output_type": "execute_result"
    }
   ],
   "source": [
    "# 5 x 1 target vector\n",
    "y = df['exam_score']\n",
    "y.head()"
   ]
  },
  {
   "cell_type": "markdown",
   "id": "e78117d1",
   "metadata": {},
   "source": [
    "# Variance threshold"
   ]
  },
  {
   "cell_type": "markdown",
   "id": "aaf7cfa6",
   "metadata": {},
   "source": [
    "* __Variance Threshold:__ This section will focus on identifying and removing low-variance features that do not contribute significantly to the model's performance. We will use the VarianceThreshold class from scikit-learn to perform this operation."
   ]
  },
  {
   "cell_type": "markdown",
   "id": "e0af8901",
   "metadata": {},
   "source": [
    "Variance measures how much a feature's values deviate from its mean. If a feature has very low variance, it means the values are almost constant, which may not provide any useful information for prediction. By setting a threshold and removing features with variance below that threshold, we can simplify the dataset and potentially improve model performance."
   ]
  },
  {
   "cell_type": "markdown",
   "id": "3d552b8b",
   "metadata": {},
   "source": [
    "We are dropping __edu_goal__ feature as because is categorical"
   ]
  },
  {
   "cell_type": "code",
   "execution_count": 4,
   "id": "8b4f595c",
   "metadata": {},
   "outputs": [
    {
     "data": {
      "text/html": [
       "<div>\n",
       "<style scoped>\n",
       "    .dataframe tbody tr th:only-of-type {\n",
       "        vertical-align: middle;\n",
       "    }\n",
       "\n",
       "    .dataframe tbody tr th {\n",
       "        vertical-align: top;\n",
       "    }\n",
       "\n",
       "    .dataframe thead th {\n",
       "        text-align: right;\n",
       "    }\n",
       "</style>\n",
       "<table border=\"1\" class=\"dataframe\">\n",
       "  <thead>\n",
       "    <tr style=\"text-align: right;\">\n",
       "      <th></th>\n",
       "      <th>hours_study</th>\n",
       "      <th>hours_TV</th>\n",
       "      <th>hours_sleep</th>\n",
       "      <th>height_cm</th>\n",
       "      <th>grade_level</th>\n",
       "    </tr>\n",
       "  </thead>\n",
       "  <tbody>\n",
       "    <tr>\n",
       "      <th>0</th>\n",
       "      <td>1</td>\n",
       "      <td>4</td>\n",
       "      <td>10</td>\n",
       "      <td>155</td>\n",
       "      <td>8</td>\n",
       "    </tr>\n",
       "    <tr>\n",
       "      <th>1</th>\n",
       "      <td>2</td>\n",
       "      <td>3</td>\n",
       "      <td>10</td>\n",
       "      <td>151</td>\n",
       "      <td>8</td>\n",
       "    </tr>\n",
       "    <tr>\n",
       "      <th>2</th>\n",
       "      <td>3</td>\n",
       "      <td>4</td>\n",
       "      <td>8</td>\n",
       "      <td>160</td>\n",
       "      <td>8</td>\n",
       "    </tr>\n",
       "    <tr>\n",
       "      <th>3</th>\n",
       "      <td>3</td>\n",
       "      <td>3</td>\n",
       "      <td>8</td>\n",
       "      <td>160</td>\n",
       "      <td>8</td>\n",
       "    </tr>\n",
       "    <tr>\n",
       "      <th>4</th>\n",
       "      <td>3</td>\n",
       "      <td>2</td>\n",
       "      <td>6</td>\n",
       "      <td>156</td>\n",
       "      <td>8</td>\n",
       "    </tr>\n",
       "  </tbody>\n",
       "</table>\n",
       "</div>"
      ],
      "text/plain": [
       "   hours_study  hours_TV  hours_sleep  height_cm  grade_level\n",
       "0            1         4           10        155            8\n",
       "1            2         3           10        151            8\n",
       "2            3         4            8        160            8\n",
       "3            3         3            8        160            8\n",
       "4            3         2            6        156            8"
      ]
     },
     "execution_count": 4,
     "metadata": {},
     "output_type": "execute_result"
    }
   ],
   "source": [
    "X_num = X.drop(columns=['edu_goal'])\n",
    "X_num.head()"
   ]
  },
  {
   "cell_type": "code",
   "execution_count": 5,
   "id": "14e68ee5",
   "metadata": {},
   "outputs": [
    {
     "name": "stdout",
     "output_type": "stream",
     "text": [
      "[[  1   4  10 155]\n",
      " [  2   3  10 151]\n",
      " [  3   4   8 160]\n",
      " [  3   3   8 160]\n",
      " [  3   2   6 156]\n",
      " [  4   3   6 150]\n",
      " [  3   2   8 164]\n",
      " [  4   2   8 151]\n",
      " [  5   1  10 158]\n",
      " [  5   1  10 152]]\n"
     ]
    }
   ],
   "source": [
    "from sklearn.feature_selection import VarianceThreshold\n",
    "\n",
    "selector = VarianceThreshold(threshold=0)  # 0 is default\n",
    "\n",
    "print(selector.fit_transform(X_num))"
   ]
  },
  {
   "cell_type": "markdown",
   "id": "e4a46d48",
   "metadata": {},
   "source": [
    "Grade_level was removed because there is no variation in its values — all students are 8th graders. "
   ]
  },
  {
   "cell_type": "markdown",
   "id": "875a0182",
   "metadata": {},
   "source": [
    "VarianceThreshold offers a method called .get_support() that can return the indices of the selected features, which we can use to manually subset our numeric features DataFrame:"
   ]
  },
  {
   "cell_type": "code",
   "execution_count": 7,
   "id": "1a3654f6",
   "metadata": {},
   "outputs": [
    {
     "name": "stdout",
     "output_type": "stream",
     "text": [
      "[0 1 2 3]\n"
     ]
    }
   ],
   "source": [
    "# Specify `indices=True` to get indices of selected features\n",
    "print(selector.get_support(indices=True))"
   ]
  },
  {
   "cell_type": "code",
   "execution_count": 8,
   "id": "d04761c3",
   "metadata": {},
   "outputs": [
    {
     "name": "stdout",
     "output_type": "stream",
     "text": [
      "['hours_study', 'hours_TV', 'hours_sleep', 'height_cm']\n"
     ]
    }
   ],
   "source": [
    "# Use indices to get the corresponding column names of selected features\n",
    "num_cols = list(X_num.columns[selector.get_support(indices=True)])\n",
    "\n",
    "print(num_cols)"
   ]
  },
  {
   "cell_type": "code",
   "execution_count": 9,
   "id": "e47fed83",
   "metadata": {},
   "outputs": [
    {
     "data": {
      "text/html": [
       "<div>\n",
       "<style scoped>\n",
       "    .dataframe tbody tr th:only-of-type {\n",
       "        vertical-align: middle;\n",
       "    }\n",
       "\n",
       "    .dataframe tbody tr th {\n",
       "        vertical-align: top;\n",
       "    }\n",
       "\n",
       "    .dataframe thead th {\n",
       "        text-align: right;\n",
       "    }\n",
       "</style>\n",
       "<table border=\"1\" class=\"dataframe\">\n",
       "  <thead>\n",
       "    <tr style=\"text-align: right;\">\n",
       "      <th></th>\n",
       "      <th>hours_study</th>\n",
       "      <th>hours_TV</th>\n",
       "      <th>hours_sleep</th>\n",
       "      <th>height_cm</th>\n",
       "    </tr>\n",
       "  </thead>\n",
       "  <tbody>\n",
       "    <tr>\n",
       "      <th>0</th>\n",
       "      <td>1</td>\n",
       "      <td>4</td>\n",
       "      <td>10</td>\n",
       "      <td>155</td>\n",
       "    </tr>\n",
       "    <tr>\n",
       "      <th>1</th>\n",
       "      <td>2</td>\n",
       "      <td>3</td>\n",
       "      <td>10</td>\n",
       "      <td>151</td>\n",
       "    </tr>\n",
       "    <tr>\n",
       "      <th>2</th>\n",
       "      <td>3</td>\n",
       "      <td>4</td>\n",
       "      <td>8</td>\n",
       "      <td>160</td>\n",
       "    </tr>\n",
       "    <tr>\n",
       "      <th>3</th>\n",
       "      <td>3</td>\n",
       "      <td>3</td>\n",
       "      <td>8</td>\n",
       "      <td>160</td>\n",
       "    </tr>\n",
       "    <tr>\n",
       "      <th>4</th>\n",
       "      <td>3</td>\n",
       "      <td>2</td>\n",
       "      <td>6</td>\n",
       "      <td>156</td>\n",
       "    </tr>\n",
       "  </tbody>\n",
       "</table>\n",
       "</div>"
      ],
      "text/plain": [
       "   hours_study  hours_TV  hours_sleep  height_cm\n",
       "0            1         4           10        155\n",
       "1            2         3           10        151\n",
       "2            3         4            8        160\n",
       "3            3         3            8        160\n",
       "4            3         2            6        156"
      ]
     },
     "execution_count": 9,
     "metadata": {},
     "output_type": "execute_result"
    }
   ],
   "source": [
    "# Subset `X_num` to retain only selected features\n",
    "X_num = X_num[num_cols]\n",
    "X_num.head()"
   ]
  },
  {
   "cell_type": "code",
   "execution_count": 10,
   "id": "8f4ea6cc",
   "metadata": {},
   "outputs": [
    {
     "data": {
      "text/html": [
       "<div>\n",
       "<style scoped>\n",
       "    .dataframe tbody tr th:only-of-type {\n",
       "        vertical-align: middle;\n",
       "    }\n",
       "\n",
       "    .dataframe tbody tr th {\n",
       "        vertical-align: top;\n",
       "    }\n",
       "\n",
       "    .dataframe thead th {\n",
       "        text-align: right;\n",
       "    }\n",
       "</style>\n",
       "<table border=\"1\" class=\"dataframe\">\n",
       "  <thead>\n",
       "    <tr style=\"text-align: right;\">\n",
       "      <th></th>\n",
       "      <th>edu_goal</th>\n",
       "      <th>hours_study</th>\n",
       "      <th>hours_TV</th>\n",
       "      <th>hours_sleep</th>\n",
       "      <th>height_cm</th>\n",
       "    </tr>\n",
       "  </thead>\n",
       "  <tbody>\n",
       "    <tr>\n",
       "      <th>0</th>\n",
       "      <td>bachelors</td>\n",
       "      <td>1</td>\n",
       "      <td>4</td>\n",
       "      <td>10</td>\n",
       "      <td>155</td>\n",
       "    </tr>\n",
       "    <tr>\n",
       "      <th>1</th>\n",
       "      <td>bachelors</td>\n",
       "      <td>2</td>\n",
       "      <td>3</td>\n",
       "      <td>10</td>\n",
       "      <td>151</td>\n",
       "    </tr>\n",
       "    <tr>\n",
       "      <th>2</th>\n",
       "      <td>bachelors</td>\n",
       "      <td>3</td>\n",
       "      <td>4</td>\n",
       "      <td>8</td>\n",
       "      <td>160</td>\n",
       "    </tr>\n",
       "    <tr>\n",
       "      <th>3</th>\n",
       "      <td>masters</td>\n",
       "      <td>3</td>\n",
       "      <td>3</td>\n",
       "      <td>8</td>\n",
       "      <td>160</td>\n",
       "    </tr>\n",
       "    <tr>\n",
       "      <th>4</th>\n",
       "      <td>masters</td>\n",
       "      <td>3</td>\n",
       "      <td>2</td>\n",
       "      <td>6</td>\n",
       "      <td>156</td>\n",
       "    </tr>\n",
       "  </tbody>\n",
       "</table>\n",
       "</div>"
      ],
      "text/plain": [
       "    edu_goal  hours_study  hours_TV  hours_sleep  height_cm\n",
       "0  bachelors            1         4           10        155\n",
       "1  bachelors            2         3           10        151\n",
       "2  bachelors            3         4            8        160\n",
       "3    masters            3         3            8        160\n",
       "4    masters            3         2            6        156"
      ]
     },
     "execution_count": 10,
     "metadata": {},
     "output_type": "execute_result"
    }
   ],
   "source": [
    "X = X[['edu_goal'] + num_cols]\n",
    "X.head()"
   ]
  },
  {
   "cell_type": "markdown",
   "id": "0ff93f6d",
   "metadata": {},
   "source": [
    "# Pearson’s correlation"
   ]
  },
  {
   "cell_type": "markdown",
   "id": "164c7d6a",
   "metadata": {},
   "source": [
    "Pearson's correlation is used to assess the linear relationship between pairs of numerical features. It helps identify highly correlated features, which can lead to multicollinearity issues in regression models.\n",
    "\n",
    "The correlation coefficient, which ranges from -1 to 1, quantifies how two features change together. A high positive correlation (close to 1) means that as one feature increases, the other tends to increase as well. A high negative correlation (close to -1) means the opposite. Identifying and handling highly correlated features is crucial to avoid redundancy in the dataset, improve model interpretability, and reduce overfitting."
   ]
  },
  {
   "cell_type": "markdown",
   "id": "6fd7f1eb",
   "metadata": {},
   "source": [
    "### Correlation between features"
   ]
  },
  {
   "cell_type": "markdown",
   "id": "e39fa228",
   "metadata": {},
   "source": [
    "This technique explores the correlation between pairs of features in the dataset. It aims to identify and mitigate multicollinearity, which occurs when features are highly correlated with each other.\n",
    "\n",
    "Multicollinearity can be problematic in regression models, as it makes it challenging to isolate the individual effects of correlated features. Identifying and addressing these issues by either removing one of the correlated features or applying dimensionality reduction techniques can improve model stability and interpretability."
   ]
  },
  {
   "cell_type": "code",
   "execution_count": 11,
   "id": "ee91d2ed",
   "metadata": {},
   "outputs": [
    {
     "data": {
      "image/png": "[encoded data removed]",
      "text/plain": [
       "<Figure size 640x480 with 2 Axes>"
      ]
     },
     "metadata": {},
     "output_type": "display_data"
    }
   ],
   "source": [
    "import matplotlib.pyplot as plt\n",
    "import seaborn as sns\n",
    "\n",
    "corr_matrix = X_num.corr(method='pearson')  # 'pearson' is default\n",
    "\n",
    "sns.heatmap(corr_matrix, annot=True, cmap='RdBu_r')\n",
    "plt.show()"
   ]
  },
  {
   "cell_type": "code",
   "execution_count": 12,
   "id": "6054763a",
   "metadata": {},
   "outputs": [
    {
     "name": "stdout",
     "output_type": "stream",
     "text": [
      "hours_TV hours_study -0.780763315142435\n"
     ]
    }
   ],
   "source": [
    "# Loop over bottom diagonal of correlation matrix\n",
    "for i in range(len(corr_matrix.columns)):\n",
    "    for j in range(i):\n",
    "\n",
    "        # Print variables with high correlation\n",
    "        if abs(corr_matrix.iloc[i, j]) > 0.7:\n",
    "            print(corr_matrix.columns[i], corr_matrix.columns[j], corr_matrix.iloc[i, j])"
   ]
  },
  {
   "cell_type": "markdown",
   "id": "701728da",
   "metadata": {},
   "source": [
    "__hours_TV__ appears to be highly negatively correlated with hours_study — a student who watches a lot of TV tends to spend fewer hours studying, and vice versa. Because they provide redundant information, we can choose to remove one of those variables. To decide which one, we can look at their correlation with the target variable, then remove the one that is less associated with the target. "
   ]
  },
  {
   "cell_type": "markdown",
   "id": "555cd3b6",
   "metadata": {},
   "source": [
    "### Correlation between feature and target"
   ]
  },
  {
   "cell_type": "markdown",
   "id": "0ba87341",
   "metadata": {},
   "source": [
    "This technique focuses on understanding how each feature influences the target variable. It helps in feature selection by highlighting the features that have a strong impact on the prediction.\n",
    "\n",
    "By calculating the correlation between each feature and the target variable, we can prioritize features that are highly correlated with the target. Features with strong correlations are often the most influential in making predictions. This method assists in selecting the most relevant features for modeling."
   ]
  },
  {
   "cell_type": "code",
   "execution_count": 13,
   "id": "f8c79a30",
   "metadata": {},
   "outputs": [],
   "source": [
    "X_y = X_num.copy()\n",
    "X_y['exam_score'] = y"
   ]
  },
  {
   "cell_type": "code",
   "execution_count": 14,
   "id": "549fa3fd",
   "metadata": {},
   "outputs": [
    {
     "data": {
      "text/html": [
       "<div>\n",
       "<style scoped>\n",
       "    .dataframe tbody tr th:only-of-type {\n",
       "        vertical-align: middle;\n",
       "    }\n",
       "\n",
       "    .dataframe tbody tr th {\n",
       "        vertical-align: top;\n",
       "    }\n",
       "\n",
       "    .dataframe thead th {\n",
       "        text-align: right;\n",
       "    }\n",
       "</style>\n",
       "<table border=\"1\" class=\"dataframe\">\n",
       "  <thead>\n",
       "    <tr style=\"text-align: right;\">\n",
       "      <th></th>\n",
       "      <th>hours_study</th>\n",
       "      <th>hours_TV</th>\n",
       "      <th>hours_sleep</th>\n",
       "      <th>height_cm</th>\n",
       "      <th>exam_score</th>\n",
       "    </tr>\n",
       "  </thead>\n",
       "  <tbody>\n",
       "    <tr>\n",
       "      <th>0</th>\n",
       "      <td>1</td>\n",
       "      <td>4</td>\n",
       "      <td>10</td>\n",
       "      <td>155</td>\n",
       "      <td>71</td>\n",
       "    </tr>\n",
       "    <tr>\n",
       "      <th>1</th>\n",
       "      <td>2</td>\n",
       "      <td>3</td>\n",
       "      <td>10</td>\n",
       "      <td>151</td>\n",
       "      <td>72</td>\n",
       "    </tr>\n",
       "    <tr>\n",
       "      <th>2</th>\n",
       "      <td>3</td>\n",
       "      <td>4</td>\n",
       "      <td>8</td>\n",
       "      <td>160</td>\n",
       "      <td>78</td>\n",
       "    </tr>\n",
       "    <tr>\n",
       "      <th>3</th>\n",
       "      <td>3</td>\n",
       "      <td>3</td>\n",
       "      <td>8</td>\n",
       "      <td>160</td>\n",
       "      <td>79</td>\n",
       "    </tr>\n",
       "    <tr>\n",
       "      <th>4</th>\n",
       "      <td>3</td>\n",
       "      <td>2</td>\n",
       "      <td>6</td>\n",
       "      <td>156</td>\n",
       "      <td>85</td>\n",
       "    </tr>\n",
       "  </tbody>\n",
       "</table>\n",
       "</div>"
      ],
      "text/plain": [
       "   hours_study  hours_TV  hours_sleep  height_cm  exam_score\n",
       "0            1         4           10        155          71\n",
       "1            2         3           10        151          72\n",
       "2            3         4            8        160          78\n",
       "3            3         3            8        160          79\n",
       "4            3         2            6        156          85"
      ]
     },
     "execution_count": 14,
     "metadata": {},
     "output_type": "execute_result"
    }
   ],
   "source": [
    "X_y.head()"
   ]
  },
  {
   "cell_type": "code",
   "execution_count": 15,
   "id": "de84f790",
   "metadata": {},
   "outputs": [
    {
     "data": {
      "image/png": "[encoded data removed]",
      "text/plain": [
       "<Figure size 640x480 with 2 Axes>"
      ]
     },
     "metadata": {},
     "output_type": "display_data"
    }
   ],
   "source": [
    "corr_matrix = X_y.corr()\n",
    "\n",
    "# Isolate the column corresponding to `exam_score`\n",
    "corr_target = corr_matrix[['exam_score']].drop(labels=['exam_score'])\n",
    "\n",
    "sns.heatmap(corr_target, annot=True, fmt='.3', cmap='RdBu_r')\n",
    "plt.show()"
   ]
  },
  {
   "cell_type": "markdown",
   "id": "866fc713",
   "metadata": {},
   "source": [
    "hours_study has a stronger correlation with the target variable, therefore, I will remove hours_TV as the redundant feature:"
   ]
  },
  {
   "cell_type": "code",
   "execution_count": 16,
   "id": "2f158036",
   "metadata": {},
   "outputs": [
    {
     "data": {
      "text/html": [
       "<div>\n",
       "<style scoped>\n",
       "    .dataframe tbody tr th:only-of-type {\n",
       "        vertical-align: middle;\n",
       "    }\n",
       "\n",
       "    .dataframe tbody tr th {\n",
       "        vertical-align: top;\n",
       "    }\n",
       "\n",
       "    .dataframe thead th {\n",
       "        text-align: right;\n",
       "    }\n",
       "</style>\n",
       "<table border=\"1\" class=\"dataframe\">\n",
       "  <thead>\n",
       "    <tr style=\"text-align: right;\">\n",
       "      <th></th>\n",
       "      <th>edu_goal</th>\n",
       "      <th>hours_study</th>\n",
       "      <th>hours_sleep</th>\n",
       "      <th>height_cm</th>\n",
       "    </tr>\n",
       "  </thead>\n",
       "  <tbody>\n",
       "    <tr>\n",
       "      <th>0</th>\n",
       "      <td>bachelors</td>\n",
       "      <td>1</td>\n",
       "      <td>10</td>\n",
       "      <td>155</td>\n",
       "    </tr>\n",
       "    <tr>\n",
       "      <th>1</th>\n",
       "      <td>bachelors</td>\n",
       "      <td>2</td>\n",
       "      <td>10</td>\n",
       "      <td>151</td>\n",
       "    </tr>\n",
       "    <tr>\n",
       "      <th>2</th>\n",
       "      <td>bachelors</td>\n",
       "      <td>3</td>\n",
       "      <td>8</td>\n",
       "      <td>160</td>\n",
       "    </tr>\n",
       "    <tr>\n",
       "      <th>3</th>\n",
       "      <td>masters</td>\n",
       "      <td>3</td>\n",
       "      <td>8</td>\n",
       "      <td>160</td>\n",
       "    </tr>\n",
       "    <tr>\n",
       "      <th>4</th>\n",
       "      <td>masters</td>\n",
       "      <td>3</td>\n",
       "      <td>6</td>\n",
       "      <td>156</td>\n",
       "    </tr>\n",
       "  </tbody>\n",
       "</table>\n",
       "</div>"
      ],
      "text/plain": [
       "    edu_goal  hours_study  hours_sleep  height_cm\n",
       "0  bachelors            1           10        155\n",
       "1  bachelors            2           10        151\n",
       "2  bachelors            3            8        160\n",
       "3    masters            3            8        160\n",
       "4    masters            3            6        156"
      ]
     },
     "execution_count": 16,
     "metadata": {},
     "output_type": "execute_result"
    }
   ],
   "source": [
    "X = X.drop(columns=['hours_TV'])\n",
    "X.head()"
   ]
  },
  {
   "cell_type": "markdown",
   "id": "9140a1ff",
   "metadata": {},
   "source": [
    "# Mutual information"
   ]
  },
  {
   "cell_type": "markdown",
   "id": "5a127d36",
   "metadata": {},
   "source": [
    "Mutual information measures the dependency between features and the target variable, capturing both linear and non-linear relationships. It helps in feature selection by quantifying the predictive power of each feature.\n",
    "\n",
    "Unlike correlation, mutual information is not limited to linear relationships. It considers any type of association between features and the target variable, making it useful for capturing complex patterns. Higher mutual information indicates that a feature provides more information about the target, making it a valuable candidate for inclusion in the model."
   ]
  },
  {
   "cell_type": "code",
   "execution_count": 19,
   "id": "1b89ad92",
   "metadata": {},
   "outputs": [],
   "source": [
    "from sklearn.preprocessing import LabelEncoder\n",
    "\n",
    "le = LabelEncoder()\n",
    "\n",
    "# Create copy of `X` for encoded version\n",
    "X_enc = X.copy()\n",
    "X_enc['edu_goal'] = le.fit_transform(X['edu_goal'])"
   ]
  },
  {
   "cell_type": "code",
   "execution_count": 20,
   "id": "9880d429",
   "metadata": {},
   "outputs": [
    {
     "data": {
      "text/html": [
       "<div>\n",
       "<style scoped>\n",
       "    .dataframe tbody tr th:only-of-type {\n",
       "        vertical-align: middle;\n",
       "    }\n",
       "\n",
       "    .dataframe tbody tr th {\n",
       "        vertical-align: top;\n",
       "    }\n",
       "\n",
       "    .dataframe thead th {\n",
       "        text-align: right;\n",
       "    }\n",
       "</style>\n",
       "<table border=\"1\" class=\"dataframe\">\n",
       "  <thead>\n",
       "    <tr style=\"text-align: right;\">\n",
       "      <th></th>\n",
       "      <th>edu_goal</th>\n",
       "      <th>hours_study</th>\n",
       "      <th>hours_sleep</th>\n",
       "      <th>height_cm</th>\n",
       "    </tr>\n",
       "  </thead>\n",
       "  <tbody>\n",
       "    <tr>\n",
       "      <th>0</th>\n",
       "      <td>0</td>\n",
       "      <td>1</td>\n",
       "      <td>10</td>\n",
       "      <td>155</td>\n",
       "    </tr>\n",
       "    <tr>\n",
       "      <th>1</th>\n",
       "      <td>0</td>\n",
       "      <td>2</td>\n",
       "      <td>10</td>\n",
       "      <td>151</td>\n",
       "    </tr>\n",
       "    <tr>\n",
       "      <th>2</th>\n",
       "      <td>0</td>\n",
       "      <td>3</td>\n",
       "      <td>8</td>\n",
       "      <td>160</td>\n",
       "    </tr>\n",
       "    <tr>\n",
       "      <th>3</th>\n",
       "      <td>1</td>\n",
       "      <td>3</td>\n",
       "      <td>8</td>\n",
       "      <td>160</td>\n",
       "    </tr>\n",
       "    <tr>\n",
       "      <th>4</th>\n",
       "      <td>1</td>\n",
       "      <td>3</td>\n",
       "      <td>6</td>\n",
       "      <td>156</td>\n",
       "    </tr>\n",
       "  </tbody>\n",
       "</table>\n",
       "</div>"
      ],
      "text/plain": [
       "   edu_goal  hours_study  hours_sleep  height_cm\n",
       "0         0            1           10        155\n",
       "1         0            2           10        151\n",
       "2         0            3            8        160\n",
       "3         1            3            8        160\n",
       "4         1            3            6        156"
      ]
     },
     "execution_count": 20,
     "metadata": {},
     "output_type": "execute_result"
    }
   ],
   "source": [
    "X_enc.head()"
   ]
  },
  {
   "cell_type": "markdown",
   "id": "bcae0273",
   "metadata": {},
   "source": [
    "Now, we can compute the mutual information between each feature and exam_score using mutual_info_regression(). This function is used because our target variable is continuous, but if we had a discrete target variable, we would use mutual_info_classif(). We specify the random_state in the function in order obtain reproducible results:"
   ]
  },
  {
   "cell_type": "code",
   "execution_count": 21,
   "id": "e8c76453",
   "metadata": {},
   "outputs": [
    {
     "name": "stdout",
     "output_type": "stream",
     "text": [
      "[0.50396825 0.40896825 0.06896825 0.        ]\n"
     ]
    }
   ],
   "source": [
    "from sklearn.feature_selection import mutual_info_regression\n",
    "print(mutual_info_regression(X_enc, y, random_state=68))"
   ]
  },
  {
   "cell_type": "markdown",
   "id": "401b318c",
   "metadata": {},
   "source": [
    "In order to properly calculate the mutual information, we need to tell mutual_info_regression() which features are discrete by providing their index positions using the discrete_features parameter:"
   ]
  },
  {
   "cell_type": "code",
   "execution_count": 22,
   "id": "d9438d95",
   "metadata": {},
   "outputs": [
    {
     "name": "stdout",
     "output_type": "stream",
     "text": [
      "[0.75563492 0.38896825 0.18563492 0.        ]\n"
     ]
    }
   ],
   "source": [
    "print(mutual_info_regression(X_enc, y, discrete_features=[0], random_state=68))"
   ]
  },
  {
   "cell_type": "markdown",
   "id": "51cc5787",
   "metadata": {},
   "source": [
    "Compared to earlier results, we notice higher mutual information between __\"edu_goal\"__ and the target variable when we correctly interpret __\"edu_goal\"__ as a discrete feature.\n",
    "\n",
    "__\"height_cm\"__ and __\"exam_score\"__ show 0 mutual information, indicating independence, consistent with the near-zero Pearson's correlation coefficient.\n",
    "\n",
    "Surprisingly, __\"hours_sleep\"__ and __\"exam_score\"__ exhibit positive mutual information, despite a 0 Pearson's correlation coefficient. This is because they have a nonlinear relationship, detected by mutual information but not Pearson's correlation.\n",
    "\n",
    "To select top features with high mutual information with the target variable, we use __SelectKBest__ from scikit-learn, __specifying mutual_info_regression()__ as the scoring function and using __partial()__ to manage additional arguments. The __.fit_transform()__ method yields the chosen features as a numpy array."
   ]
  },
  {
   "cell_type": "code",
   "execution_count": 23,
   "id": "8e61f1e3",
   "metadata": {},
   "outputs": [
    {
     "name": "stdout",
     "output_type": "stream",
     "text": [
      "[[ 0  1 10]\n",
      " [ 0  2 10]\n",
      " [ 0  3  8]\n",
      " [ 1  3  8]\n",
      " [ 1  3  6]\n",
      " [ 1  4  6]\n",
      " [ 1  3  8]\n",
      " [ 2  4  8]\n",
      " [ 2  5 10]\n",
      " [ 2  5 10]]\n"
     ]
    }
   ],
   "source": [
    "from sklearn.feature_selection import SelectKBest\n",
    "from functools import partial\n",
    "\n",
    "score_func = partial(mutual_info_regression, discrete_features=[0], random_state=68)\n",
    "\n",
    "# Select top 3 features with the most mutual information\n",
    "selection = SelectKBest(score_func=score_func, k=3)\n",
    "\n",
    "print(selection.fit_transform(X_enc, y))"
   ]
  },
  {
   "cell_type": "markdown",
   "id": "c1e9f49c",
   "metadata": {},
   "source": [
    "As seen above, we selected the top 3 features based on mutual information, thus dropping height_cm. Like VarianceThreshold, SelectKBest also offers the .get_support() method that returns the indices of the selected features, so we could subset our original features DataFrame:"
   ]
  },
  {
   "cell_type": "code",
   "execution_count": 24,
   "id": "28fa4a00",
   "metadata": {},
   "outputs": [
    {
     "data": {
      "text/html": [
       "<div>\n",
       "<style scoped>\n",
       "    .dataframe tbody tr th:only-of-type {\n",
       "        vertical-align: middle;\n",
       "    }\n",
       "\n",
       "    .dataframe tbody tr th {\n",
       "        vertical-align: top;\n",
       "    }\n",
       "\n",
       "    .dataframe thead th {\n",
       "        text-align: right;\n",
       "    }\n",
       "</style>\n",
       "<table border=\"1\" class=\"dataframe\">\n",
       "  <thead>\n",
       "    <tr style=\"text-align: right;\">\n",
       "      <th></th>\n",
       "      <th>edu_goal</th>\n",
       "      <th>hours_study</th>\n",
       "      <th>hours_sleep</th>\n",
       "    </tr>\n",
       "  </thead>\n",
       "  <tbody>\n",
       "    <tr>\n",
       "      <th>0</th>\n",
       "      <td>bachelors</td>\n",
       "      <td>1</td>\n",
       "      <td>10</td>\n",
       "    </tr>\n",
       "    <tr>\n",
       "      <th>1</th>\n",
       "      <td>bachelors</td>\n",
       "      <td>2</td>\n",
       "      <td>10</td>\n",
       "    </tr>\n",
       "    <tr>\n",
       "      <th>2</th>\n",
       "      <td>bachelors</td>\n",
       "      <td>3</td>\n",
       "      <td>8</td>\n",
       "    </tr>\n",
       "    <tr>\n",
       "      <th>3</th>\n",
       "      <td>masters</td>\n",
       "      <td>3</td>\n",
       "      <td>8</td>\n",
       "    </tr>\n",
       "    <tr>\n",
       "      <th>4</th>\n",
       "      <td>masters</td>\n",
       "      <td>3</td>\n",
       "      <td>6</td>\n",
       "    </tr>\n",
       "  </tbody>\n",
       "</table>\n",
       "</div>"
      ],
      "text/plain": [
       "    edu_goal  hours_study  hours_sleep\n",
       "0  bachelors            1           10\n",
       "1  bachelors            2           10\n",
       "2  bachelors            3            8\n",
       "3    masters            3            8\n",
       "4    masters            3            6"
      ]
     },
     "execution_count": 24,
     "metadata": {},
     "output_type": "execute_result"
    }
   ],
   "source": [
    "X = X[X.columns[selection.get_support(indices=True)]]\n",
    "X.head()"
   ]
  },
  {
   "cell_type": "markdown",
   "id": "759c7895",
   "metadata": {},
   "source": [
    "# Conclusion\n",
    "\n",
    "In our dataset, we began with 6 features to predict students' exam scores. Using filter methods, we streamlined this set: we removed \"grade_level\" due to zero variance, dropped \"hours_TV\" for being highly correlated with \"hours_study,\" and filtered out \"height_cm\" based on mutual information, as it lacked predictive power. These filter methods, though simple, proved highly effective. "
   ]
  }
 ],
 "metadata": {
  "kernelspec": {
   "display_name": "Python 3 (ipykernel)",
   "language": "python",
   "name": "python3"
  },
  "language_info": {
   "codemirror_mode": {
    "name": "ipython",
    "version": 3
   },
   "file_extension": ".py",
   "mimetype": "text/x-python",
   "name": "python",
   "nbconvert_exporter": "python",
   "pygments_lexer": "ipython3",
   "version": "3.9.13"
  }
 },
 "nbformat": 4,
 "nbformat_minor": 5
}
